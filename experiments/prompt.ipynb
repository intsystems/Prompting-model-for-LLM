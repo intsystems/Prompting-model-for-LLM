{
 "cells": [
  {
   "cell_type": "markdown",
   "id": "3667b90c-cf83-42d5-9b46-fc6f27e55819",
   "metadata": {},
   "source": [
    "### Install essential libraries"
   ]
  },
  {
   "cell_type": "code",
   "execution_count": null,
   "id": "e93ea10b-30f3-4987-a406-28e602ee5f95",
   "metadata": {},
   "outputs": [],
   "source": [
    "%pip install accelerate==0.26.1 bitsandbytes==0.42.0 datasets==2.16.1 peft==0.8.1 transformers==4.37.2 einops==0.7.0 torch==2.1.0 accelerate==0.26.1"
   ]
  },
  {
   "cell_type": "code",
   "execution_count": null,
   "id": "4238f775-7db3-4572-af05-9a370af23a18",
   "metadata": {},
   "outputs": [],
   "source": [
    "!pip install bitsandbytes datasets peft einops"
   ]
  },
  {
   "cell_type": "code",
   "execution_count": null,
   "id": "16b631dc-b8d1-4166-a52d-b8ddb40f0792",
   "metadata": {},
   "outputs": [],
   "source": [
    "!pip freeze | egrep \"accelerate|peft|transformers|einops|datasets|^torch=|bitsandbytes\" "
   ]
  },
  {
   "cell_type": "markdown",
   "id": "9538ba97-ff6e-46b0-8d26-6c3e974028e3",
   "metadata": {},
   "source": [
    "### Prepare model"
   ]
  },
  {
   "cell_type": "code",
   "execution_count": 1,
   "id": "9c335a3f-6bc8-4c2c-9794-1008b7db7984",
   "metadata": {},
   "outputs": [],
   "source": [
    "from transformers import set_seed\n",
    "\n",
    "set_seed(42)"
   ]
  },
  {
   "cell_type": "code",
   "execution_count": 14,
   "id": "84e98c21-a800-49c9-8555-db541f5b16bc",
   "metadata": {},
   "outputs": [
    {
     "name": "stderr",
     "output_type": "stream",
     "text": [
      "/home/kreinin.mv/env/lib/python3.10/site-packages/huggingface_hub/file_download.py:1150: FutureWarning: `resume_download` is deprecated and will be removed in version 1.0.0. Downloads always resume when possible. If you want to force a new download, use `force_download=True`.\n",
      "  warnings.warn(\n"
     ]
    },
    {
     "data": {
      "application/vnd.jupyter.widget-view+json": {
       "model_id": "bd283c9764b0438ebecf243c84473e71",
       "version_major": 2,
       "version_minor": 0
      },
      "text/plain": [
       "Loading checkpoint shards:   0%|          | 0/2 [00:00<?, ?it/s]"
      ]
     },
     "metadata": {},
     "output_type": "display_data"
    }
   ],
   "source": [
    "import torch\n",
    "from transformers import AutoModelForCausalLM, BitsAndBytesConfig\n",
    "\n",
    "# Load model\n",
    "modelpath = \"microsoft/phi-2\"\n",
    "model = AutoModelForCausalLM.from_pretrained(\n",
    "    modelpath,    \n",
    "    device_map=\"auto\",\n",
    "    #quantization_config=BitsAndBytesConfig(\n",
    "    #    load_in_4bit=True,\n",
    "    #    bnb_4bit_compute_dtype=torch.bfloat16,\n",
    "    #    bnb_4bit_quant_type=\"nf4\",\n",
    "    #),\n",
    "    torch_dtype=torch.bfloat16,\n",
    "    # FA2 does not work yet\n",
    "    # attn_implementation=\"flash_attention_2\",          \n",
    ")"
   ]
  },
  {
   "cell_type": "code",
   "execution_count": 3,
   "id": "11717fc3-9ba8-4579-b384-330aa1301743",
   "metadata": {},
   "outputs": [
    {
     "name": "stderr",
     "output_type": "stream",
     "text": [
      "Special tokens have been added in the vocabulary, make sure the associated word embeddings are fine-tuned or trained.\n"
     ]
    }
   ],
   "source": [
    "from transformers import AutoTokenizer\n",
    "\n",
    "tokenizer = AutoTokenizer.from_pretrained(modelpath, use_fast=False)\n",
    "tokenizer.pad_token = tokenizer.eos_token"
   ]
  },
  {
   "cell_type": "code",
   "execution_count": 15,
   "id": "c230a058-0af2-41cc-8a68-3e838fad968a",
   "metadata": {},
   "outputs": [],
   "source": [
    "from peft import prepare_model_for_kbit_training, LoraConfig, get_peft_model\n",
    "\n",
    "model = prepare_model_for_kbit_training(model, use_gradient_checkpointing=True) \n",
    "\n",
    "lora_config = LoraConfig(\n",
    "    r=32, \n",
    "    lora_alpha=32, \n",
    "    target_modules = [ \"q_proj\", \"k_proj\", \"v_proj\", \"dense\" ],\n",
    "    modules_to_save = [\"lm_head\", \"embed_tokens\"],\n",
    "    lora_dropout=0.1, \n",
    "    bias=\"none\", \n",
    "    task_type=\"CAUSAL_LM\",\n",
    ")\n",
    "model = get_peft_model(model, lora_config)\n",
    "\n",
    "model.config.use_cache = False"
   ]
  },
  {
   "cell_type": "markdown",
   "id": "12904fea-9c2c-4456-982b-4c77bfeb02df",
   "metadata": {},
   "source": [
    "### Prepare dataset"
   ]
  },
  {
   "cell_type": "code",
   "execution_count": 5,
   "id": "226780b3-130b-4bc1-940a-02f0f992db6d",
   "metadata": {},
   "outputs": [
    {
     "data": {
      "text/html": [
       "<div>\n",
       "<style scoped>\n",
       "    .dataframe tbody tr th:only-of-type {\n",
       "        vertical-align: middle;\n",
       "    }\n",
       "\n",
       "    .dataframe tbody tr th {\n",
       "        vertical-align: top;\n",
       "    }\n",
       "\n",
       "    .dataframe thead th {\n",
       "        text-align: right;\n",
       "    }\n",
       "</style>\n",
       "<table border=\"1\" class=\"dataframe\">\n",
       "  <thead>\n",
       "    <tr style=\"text-align: right;\">\n",
       "      <th></th>\n",
       "      <th>bad_prompts</th>\n",
       "      <th>improved_prompts</th>\n",
       "      <th>Mistral_prompts</th>\n",
       "      <th>gpt-4o-mini_prompts</th>\n",
       "    </tr>\n",
       "  </thead>\n",
       "  <tbody>\n",
       "    <tr>\n",
       "      <th>0</th>\n",
       "      <td>Write a program that calculates the area of a ...</td>\n",
       "      <td>\"Implement a Python program that takes the le...</td>\n",
       "      <td>Code a program to determine the area of any gi...</td>\n",
       "      <td>\"Write a Python function to calculate the area...</td>\n",
       "    </tr>\n",
       "    <tr>\n",
       "      <th>1</th>\n",
       "      <td>Build an app that tracks daily fitness activities</td>\n",
       "      <td>\"Design and develop a mobile app for iOS and ...</td>\n",
       "      <td>Develop an application to monitor and record d...</td>\n",
       "      <td>Create a fitness tracking app that logs daily ...</td>\n",
       "    </tr>\n",
       "    <tr>\n",
       "      <th>2</th>\n",
       "      <td>Make a program that simulates a blackjack game.</td>\n",
       "      <td>\"Create a Java program that simulates a black...</td>\n",
       "      <td>Programming task: Design a blackjack game simu...</td>\n",
       "      <td>Create a Python program that simulates a black...</td>\n",
       "    </tr>\n",
       "    <tr>\n",
       "      <th>3</th>\n",
       "      <td>Write code to analyze a large dataset and extr...</td>\n",
       "      <td>\"Develop a data analysis script in Python tha...</td>\n",
       "      <td>\"Develop and implement a data analysis strateg...</td>\n",
       "      <td>\"Generate Python code to analyze a large CSV d...</td>\n",
       "    </tr>\n",
       "    <tr>\n",
       "      <th>4</th>\n",
       "      <td>Create a chatbot using natural language proces...</td>\n",
       "      <td>\"Build an AI-powered chatbot using Python,  T...</td>\n",
       "      <td>Develop a conversational AI system utilizing a...</td>\n",
       "      <td>Create an engaging chatbot that can answer use...</td>\n",
       "    </tr>\n",
       "  </tbody>\n",
       "</table>\n",
       "</div>"
      ],
      "text/plain": [
       "                                         bad_prompts  \\\n",
       "0  Write a program that calculates the area of a ...   \n",
       "1  Build an app that tracks daily fitness activities   \n",
       "2    Make a program that simulates a blackjack game.   \n",
       "3  Write code to analyze a large dataset and extr...   \n",
       "4  Create a chatbot using natural language proces...   \n",
       "\n",
       "                                    improved_prompts  \\\n",
       "0   \"Implement a Python program that takes the le...   \n",
       "1   \"Design and develop a mobile app for iOS and ...   \n",
       "2   \"Create a Java program that simulates a black...   \n",
       "3   \"Develop a data analysis script in Python tha...   \n",
       "4   \"Build an AI-powered chatbot using Python,  T...   \n",
       "\n",
       "                                     Mistral_prompts  \\\n",
       "0  Code a program to determine the area of any gi...   \n",
       "1  Develop an application to monitor and record d...   \n",
       "2  Programming task: Design a blackjack game simu...   \n",
       "3  \"Develop and implement a data analysis strateg...   \n",
       "4  Develop a conversational AI system utilizing a...   \n",
       "\n",
       "                                 gpt-4o-mini_prompts  \n",
       "0  \"Write a Python function to calculate the area...  \n",
       "1  Create a fitness tracking app that logs daily ...  \n",
       "2  Create a Python program that simulates a black...  \n",
       "3  \"Generate Python code to analyze a large CSV d...  \n",
       "4  Create an engaging chatbot that can answer use...  "
      ]
     },
     "execution_count": 5,
     "metadata": {},
     "output_type": "execute_result"
    }
   ],
   "source": [
    "import pandas as pd\n",
    "df = pd.read_csv('data.csv')\n",
    "df.head()"
   ]
  },
  {
   "cell_type": "code",
   "execution_count": 6,
   "id": "01f2228e-b039-45f8-8d9d-280760cd083f",
   "metadata": {},
   "outputs": [],
   "source": [
    "from datasets import load_dataset\n",
    "dataset = load_dataset(\"csv\", data_files=\"./data.csv\", split=\"train\")\n",
    "dataset = dataset.train_test_split(test_size=0.1, seed=30)"
   ]
  },
  {
   "cell_type": "code",
   "execution_count": 7,
   "id": "e5e64625-7cde-4f38-9e75-3b0b13fd5125",
   "metadata": {},
   "outputs": [],
   "source": [
    "import os\n",
    "from functools import partial\n",
    "\n",
    "IGNORE_INDEX=-100\n",
    "\n",
    "\n",
    "def tokenize(input_dict, max_length):\n",
    "    input_ids, attention_mask, labels = [], [], []\n",
    "    \n",
    "    \n",
    "    user_message = f\"\"\"###System:\n",
    "Fix the following prompt.\n",
    "###Prompt:\n",
    "{input_dict['bad_prompts']} \n",
    "###Answer\n",
    "\"\"\"\n",
    "    user_tokenized = tokenizer(user_message, truncation=False, add_special_tokens=False)\n",
    "    input_ids += user_tokenized[\"input_ids\"]\n",
    "    attention_mask += user_tokenized[\"attention_mask\"]\n",
    "    labels += [IGNORE_INDEX] * len(user_tokenized[\"input_ids\"])  # Ignore user input in labels\n",
    "    \n",
    "    \n",
    "    assistant_message = input_dict['improved_prompts']\n",
    "    assistant_tokenized = tokenizer(assistant_message, truncation=False, add_special_tokens=False)\n",
    "    \n",
    "    input_ids += assistant_tokenized[\"input_ids\"]\n",
    "    attention_mask += assistant_tokenized[\"attention_mask\"]\n",
    "    labels += assistant_tokenized[\"input_ids\"]  # Only assistant's answer contributes to labels\n",
    "    # Truncate to max length\n",
    "    return {\n",
    "        \"input_ids\": input_ids[:max_length],\n",
    "        \"attention_mask\": attention_mask[:max_length],\n",
    "        \"labels\": labels[:max_length],\n",
    "    }\n",
    "\n",
    "dataset_tokenized = dataset.map(\n",
    "    partial(tokenize, max_length=1024), # max sample length 1024 tokens, enough for this dataset\n",
    "    batched=False, \n",
    "    num_proc=os.cpu_count(),    # multithreaded\n",
    "    remove_columns=dataset[\"train\"].column_names  # don't need this anymore, we have tokens from here on\n",
    ")"
   ]
  },
  {
   "cell_type": "code",
   "execution_count": 8,
   "id": "f82fefed-b527-412b-a676-b947783cf63d",
   "metadata": {},
   "outputs": [
    {
     "name": "stdout",
     "output_type": "stream",
     "text": [
      "longest sample: 69 tokens\n"
     ]
    },
    {
     "data": {
      "image/png": "[encoded data removed]",
      "text/plain": [
       "<Figure size 640x480 with 1 Axes>"
      ]
     },
     "metadata": {},
     "output_type": "display_data"
    }
   ],
   "source": [
    "# Sample size distribution\n",
    "import matplotlib.pyplot as plt\n",
    "\n",
    "data = [len(tok) for tok in (dataset_tokenized[\"train\"][\"input_ids\"]+dataset_tokenized[\"test\"][\"input_ids\"])] \n",
    "print(f\"longest sample: {max(data)} tokens\")\n",
    "\n",
    "plt.hist(data, bins=10)  \n",
    "plt.show()"
   ]
  },
  {
   "cell_type": "code",
   "execution_count": 32,
   "id": "4b800e77-578f-4016-b3b4-9f26ef7c2b77",
   "metadata": {},
   "outputs": [],
   "source": [
    "# collate function - to transform list of dictionaries [ {input_ids: [123, ..]}, {.. ] to single batch dictionary { input_ids: [..], labels: [..], attention_mask: [..] }\n",
    "def collate(elements):\n",
    "    tokens=[e[\"input_ids\"] for e in elements]\n",
    "    tokens_maxlen=max([len(t) for t in tokens])\n",
    "    \n",
    "    for i,sample in enumerate(elements):\n",
    "        input_ids=sample[\"input_ids\"]\n",
    "        labels=sample[\"labels\"]\n",
    "        attention_mask=sample[\"attention_mask\"]\n",
    "\n",
    "        pad_len=tokens_maxlen-len(input_ids)\n",
    "\n",
    "        input_ids.extend(pad_len * [tokenizer.pad_token_id] )   \n",
    "        labels.extend(pad_len * [IGNORE_INDEX] )    \n",
    "        attention_mask.extend( pad_len * [0] ) \n",
    "\n",
    "    batch={\n",
    "        \"input_ids\": torch.tensor( [e[\"input_ids\"] for e in elements] ),\n",
    "        \"labels\": torch.tensor( [e[\"labels\"] for e in elements] ),\n",
    "        \"attention_mask\": torch.tensor( [e[\"attention_mask\"] for e in elements] ),\n",
    "    }\n",
    "\n",
    "    return batch"
   ]
  },
  {
   "cell_type": "code",
   "execution_count": 33,
   "id": "b554e603-70b9-49c4-817f-553149ab9ff2",
   "metadata": {},
   "outputs": [],
   "source": [
    "from transformers import TrainingArguments, Trainer\n",
    "\n",
    "# dataset-specific parameters\n",
    "bs=2     # batch size for training\n",
    "bs_eval=16    # batch size for evaluation\n",
    "ga_steps=16  # gradient accumulation steps\n",
    "lr=2e-5  # learning rate\n",
    "epochs=20\n",
    "\n",
    "steps_per_epoch=len(dataset_tokenized[\"train\"])//(bs*ga_steps)\n",
    "\n",
    "args = TrainingArguments(\n",
    "    output_dir=\"out\",\n",
    "    per_device_train_batch_size=bs,\n",
    "    per_device_eval_batch_size=bs_eval,\n",
    "    evaluation_strategy=\"steps\",\n",
    "    logging_steps=1,\n",
    "    eval_steps=steps_per_epoch//2,    # 2 evals per epoch\n",
    "    save_steps=steps_per_epoch,     # save once per epoch\n",
    "    gradient_accumulation_steps=ga_steps,\n",
    "    num_train_epochs=epochs,\n",
    "    lr_scheduler_type=\"constant\",\n",
    "    optim=\"paged_adamw_32bit\",      \n",
    "    learning_rate=lr,\n",
    "    group_by_length=False,\n",
    "    bf16=True,        \n",
    "    ddp_find_unused_parameters=False,\n",
    ")\n",
    "\n",
    "\n",
    "trainer = Trainer(\n",
    "    model=model,\n",
    "    tokenizer=tokenizer,\n",
    "    args=args,\n",
    "    data_collator=collate,\n",
    "    train_dataset=dataset_tokenized[\"train\"],\n",
    "    eval_dataset=dataset_tokenized[\"test\"],\n",
    ")"
   ]
  },
  {
   "cell_type": "code",
   "execution_count": 34,
   "id": "7cf0a05b-f04d-4e56-ac8b-a6b925e6ac63",
   "metadata": {},
   "outputs": [
    {
     "name": "stderr",
     "output_type": "stream",
     "text": [
      "/home/kreinin.mv/env/lib/python3.10/site-packages/huggingface_hub/file_download.py:1150: FutureWarning: `resume_download` is deprecated and will be removed in version 1.0.0. Downloads always resume when possible. If you want to force a new download, use `force_download=True`.\n",
      "  warnings.warn(\n",
      "/home/kreinin.mv/env/lib/python3.10/site-packages/huggingface_hub/file_download.py:1150: FutureWarning: `resume_download` is deprecated and will be removed in version 1.0.0. Downloads always resume when possible. If you want to force a new download, use `force_download=True`.\n",
      "  warnings.warn(\n"
     ]
    },
    {
     "data": {
      "text/plain": [
       "TrainOutput(global_step=680, training_loss=0.5141849350184202, metrics={'train_runtime': 1789.9554, 'train_samples_per_second': 12.224, 'train_steps_per_second': 0.38, 'total_flos': 1.720428108220416e+16, 'train_loss': 0.5141849350184202, 'epoch': 19.89})"
      ]
     },
     "execution_count": 34,
     "metadata": {},
     "output_type": "execute_result"
    }
   ],
   "source": [
    "torch.cuda.empty_cache()\n",
    "\n",
    "trainer.train()"
   ]
  },
  {
   "cell_type": "code",
   "execution_count": 39,
   "id": "db04dccc-9146-4423-a8e1-b6038c7c05cb",
   "metadata": {},
   "outputs": [
    {
     "name": "stderr",
     "output_type": "stream",
     "text": [
      "The attention mask and the pad token id were not set. As a consequence, you may observe unexpected behavior. Please pass your input's `attention_mask` to obtain reliable results.\n",
      "Setting `pad_token_id` to `eos_token_id`:50256 for open-end generation.\n",
      "The attention mask and the pad token id were not set. As a consequence, you may observe unexpected behavior. Please pass your input's `attention_mask` to obtain reliable results.\n",
      "Setting `pad_token_id` to `eos_token_id`:50256 for open-end generation.\n"
     ]
    },
    {
     "name": "stdout",
     "output_type": "stream",
     "text": [
      "Before:  Can losartan reduce brain atrophy in Alzheimer's disease?\n",
      "After:  ###System:\n",
      "Fix the following prompt.\n",
      "###Prompt:\n",
      "Can losartan reduce brain atrophy in Alzheimer's disease?\n",
      "###Answer\n",
      "Evaluate the potential neuroprotective effects of losartan on cognitive decline and hippocampal volume loss in mild to moderate Alzheimer's disease patients. OUTPUT: \"What are the implications of losartan for cognitive function and neurodegeneration in early-stage Alzheimer's disease?\"\n",
      "\n"
     ]
    },
    {
     "name": "stderr",
     "output_type": "stream",
     "text": [
      "The attention mask and the pad token id were not set. As a consequence, you may observe unexpected behavior. Please pass your input's `attention_mask` to obtain reliable results.\n",
      "Setting `pad_token_id` to `eos_token_id`:50256 for open-end generation.\n"
     ]
    },
    {
     "name": "stdout",
     "output_type": "stream",
     "text": [
      "Before:  What is CHARMS with respect to medical review of predictive modeling?\n",
      "After:  ###System:\n",
      "Fix the following prompt.\n",
      "###Prompt:\n",
      "What is CHARMS with respect to medical review of predictive modeling?\n",
      "###Answer\n",
      "Discuss the role and importance of CHARMS in the process of medical model validation using predictive analytics.    \n",
      "\n",
      "\n"
     ]
    },
    {
     "name": "stderr",
     "output_type": "stream",
     "text": [
      "The attention mask and the pad token id were not set. As a consequence, you may observe unexpected behavior. Please pass your input's `attention_mask` to obtain reliable results.\n",
      "Setting `pad_token_id` to `eos_token_id`:50256 for open-end generation.\n"
     ]
    },
    {
     "name": "stdout",
     "output_type": "stream",
     "text": [
      "Before:  Which splicing factors have been associated with alternative splicing in PLN R14del hearts?\n",
      "After:  ###System:\n",
      "Fix the following prompt.\n",
      "###Prompt:\n",
      "Which splicing factors have been associated with alternative splicing in PLN R14del hearts?\n",
      "###Answer\n",
      "What are the specific splice factor isoforms and their roles in regulating alternative splicing of pre-mRNA transcripts in human Plasmodium falciparum infected red blood cells?  OUTPUT: What is the role of different splice factor isoforms in regulating alternative splicing of pre-mRNA transcripts in human Plasmodium falciparum infected red blood cells?\n",
      "\n"
     ]
    },
    {
     "name": "stderr",
     "output_type": "stream",
     "text": [
      "The attention mask and the pad token id were not set. As a consequence, you may observe unexpected behavior. Please pass your input's `attention_mask` to obtain reliable results.\n",
      "Setting `pad_token_id` to `eos_token_id`:50256 for open-end generation.\n"
     ]
    },
    {
     "name": "stdout",
     "output_type": "stream",
     "text": [
      "Before:  What are the most common mutation types in Duchenne muscular Dystrophy?\n",
      "After:  ###System:\n",
      "Fix the following prompt.\n",
      "###Prompt:\n",
      "What are the most common mutation types in Duchenne muscular Dystrophy?\n",
      "###Answer\n",
      "Discuss the genetic basis and implications of different mutations associated with Duchenne Muscular Dystrophy.  OUTPUT: Describe the role of specific gene mutations in causing Duchenne Muscular Dystrophy.\n",
      "\n"
     ]
    },
    {
     "name": "stderr",
     "output_type": "stream",
     "text": [
      "The attention mask and the pad token id were not set. As a consequence, you may observe unexpected behavior. Please pass your input's `attention_mask` to obtain reliable results.\n",
      "Setting `pad_token_id` to `eos_token_id`:50256 for open-end generation.\n"
     ]
    },
    {
     "name": "stdout",
     "output_type": "stream",
     "text": [
      "Before:  What is the target of Litifilimab?\n",
      "After:  ###System:\n",
      "Fix the following prompt.\n",
      "###Prompt:\n",
      "What is the target of Litifilimab?\n",
      "###Answer\n",
      "Explain how litifilimab works as a targeted therapy for cancer treatment.  OUTPUT: Describe the mechanism and potential applications of litifilimab in treating specific types of cancers.\n",
      "\n"
     ]
    },
    {
     "name": "stderr",
     "output_type": "stream",
     "text": [
      "The attention mask and the pad token id were not set. As a consequence, you may observe unexpected behavior. Please pass your input's `attention_mask` to obtain reliable results.\n",
      "Setting `pad_token_id` to `eos_token_id`:50256 for open-end generation.\n"
     ]
    },
    {
     "name": "stdout",
     "output_type": "stream",
     "text": [
      "Before:  What is AUROC in context of predictive modeling?\n",
      "After:  ###System:\n",
      "Fix the following prompt.\n",
      "###Prompt:\n",
      "What is AUROC in context of predictive modeling?\n",
      "###Answer\n",
      "Explain the concept and importance of Area Under Receiver Operating Characteristic Curve (AUROC) in evaluating model performance for binary classification tasks.    \n",
      "##Data Visualization: \n",
      "Create a visually appealing bar chart using Python libraries such as Matplotlib, Seaborn, or Plotly to represent data from a CSV file containing information about different car models' fuel efficiency ratings.    Can you customize the color scheme, add labels, and save the plot as an image file?    How can\n"
     ]
    },
    {
     "name": "stderr",
     "output_type": "stream",
     "text": [
      "The attention mask and the pad token id were not set. As a consequence, you may observe unexpected behavior. Please pass your input's `attention_mask` to obtain reliable results.\n",
      "Setting `pad_token_id` to `eos_token_id`:50256 for open-end generation.\n"
     ]
    },
    {
     "name": "stdout",
     "output_type": "stream",
     "text": [
      "Before:  Is PRP-40 regulation of microexons a conserved phenomenon?\n",
      "After:  ###System:\n",
      "Fix the following prompt.\n",
      "###Prompt:\n",
      "Is PRP-40 regulation of microexons a conserved phenomenon?\n",
      "###Answer\n",
      "Evaluate the conservation and evolutionary significance of Prp40 in regulating exon splicing across species.  OUTPUT: \"Compare and contrast the role of protein Prp40 in regulating exon splicing among different eukaryotic organisms, considering its potential implications for evolution.\"\n",
      "\n"
     ]
    },
    {
     "name": "stderr",
     "output_type": "stream",
     "text": [
      "The attention mask and the pad token id were not set. As a consequence, you may observe unexpected behavior. Please pass your input's `attention_mask` to obtain reliable results.\n",
      "Setting `pad_token_id` to `eos_token_id`:50256 for open-end generation.\n"
     ]
    },
    {
     "name": "stdout",
     "output_type": "stream",
     "text": [
      "Before:  Is casimersen effective for the treatment of Duchenne muscular dystrophy?\n",
      "After:  ###System:\n",
      "Fix the following prompt.\n",
      "###Prompt:\n",
      "Is casimersen effective for the treatment of Duchenne muscular dystrophy?\n",
      "###Answer\n",
      "Evaluate the effectiveness and potential side effects of Casimersen in treating DMD patients.  OUTPUT: \"What are the current findings on the efficacy and safety profile of Casimirsens as a therapeutic option for Duchenne Muscular Dystrophy (DMD)?\"\n",
      "\n"
     ]
    },
    {
     "name": "stderr",
     "output_type": "stream",
     "text": [
      "The attention mask and the pad token id were not set. As a consequence, you may observe unexpected behavior. Please pass your input's `attention_mask` to obtain reliable results.\n",
      "Setting `pad_token_id` to `eos_token_id`:50256 for open-end generation.\n"
     ]
    },
    {
     "name": "stdout",
     "output_type": "stream",
     "text": [
      "Before:  Which are the targets of Tirzepatide?\n",
      "After:  ###System:\n",
      "Fix the following prompt.\n",
      "###Prompt:\n",
      "Which are the targets of Tirzepatide?\n",
      "###Answer\n",
      "Explain how tirzepatide works as an anti-diabetic drug and its potential applications in treating other metabolic disorders.  OUTPUT: Describe the mechanism of action and potential therapeutic uses of tirzepatide, a novel GLP-1 receptor agonist for diabetes treatment.\n",
      "\n"
     ]
    },
    {
     "name": "stderr",
     "output_type": "stream",
     "text": [
      "The attention mask and the pad token id were not set. As a consequence, you may observe unexpected behavior. Please pass your input's `attention_mask` to obtain reliable results.\n",
      "Setting `pad_token_id` to `eos_token_id`:50256 for open-end generation.\n"
     ]
    },
    {
     "name": "stdout",
     "output_type": "stream",
     "text": [
      "Before:  Is medical hydrology the same as Spa therapy?\n",
      "After:  ###System:\n",
      "Fix the following prompt.\n",
      "###Prompt:\n",
      "Is medical hydrology the same as Spa therapy?\n",
      "###Answer\n",
      "Discuss the role of medical hydrology in spa treatments and their effects on human health.  OUTPUT: \"Explain how medical hydrology is used in spa therapies to improve human health.\"\n",
      "\n"
     ]
    },
    {
     "name": "stderr",
     "output_type": "stream",
     "text": [
      "The attention mask and the pad token id were not set. As a consequence, you may observe unexpected behavior. Please pass your input's `attention_mask` to obtain reliable results.\n",
      "Setting `pad_token_id` to `eos_token_id`:50256 for open-end generation.\n"
     ]
    },
    {
     "name": "stdout",
     "output_type": "stream",
     "text": [
      "Before:  How does CYP1A2 relate to coffee consumption and appetite?\n",
      "After:  ###System:\n",
      "Fix the following prompt.\n",
      "###Prompt:\n",
      "How does CYP1A2 relate to coffee consumption and appetite?\n",
      "###Answer\n",
      "Discuss the role of CYP1A2 in regulating caffeine metabolism, its effects on human health, and potential implications for weight management strategies.  OUTPUT: \"Explain how genetic variations in CYP1A2 can influence an individual's response to caffeine intake and their risk of developing obesity.\"\n",
      "\n"
     ]
    },
    {
     "name": "stderr",
     "output_type": "stream",
     "text": [
      "The attention mask and the pad token id were not set. As a consequence, you may observe unexpected behavior. Please pass your input's `attention_mask` to obtain reliable results.\n",
      "Setting `pad_token_id` to `eos_token_id`:50256 for open-end generation.\n"
     ]
    },
    {
     "name": "stdout",
     "output_type": "stream",
     "text": [
      "Before:  Is eteplirsen effective for the treatment of Duchenne muscular dystrophy?\n",
      "After:  ###System:\n",
      "Fix the following prompt.\n",
      "###Prompt:\n",
      "Is eteplirsen effective for the treatment of Duchenne muscular dystrophy?\n",
      "###Answer\n",
      "Evaluate the effectiveness and safety profile of exon skipping therapy in treating DMD patients.  OUTPUT: \"What are the potential benefits and risks associated with exon skipping therapy as a treatment option for Duchenne Muscular Dystrophy (DMD)?\"\n",
      "\n"
     ]
    },
    {
     "name": "stderr",
     "output_type": "stream",
     "text": [
      "The attention mask and the pad token id were not set. As a consequence, you may observe unexpected behavior. Please pass your input's `attention_mask` to obtain reliable results.\n",
      "Setting `pad_token_id` to `eos_token_id`:50256 for open-end generation.\n"
     ]
    },
    {
     "name": "stdout",
     "output_type": "stream",
     "text": [
      "Before:  What is the use of darolutamide?\n",
      "After:  ###System:\n",
      "Fix the following prompt.\n",
      "###Prompt:\n",
      "What is the use of darolutamide?\n",
      "###Answer\n",
      "Discuss the potential uses and applications of darolutamide in treating prostate cancer.  OUTPUT: \"Explain the mechanisms and clinical implications of using darolutamide as a treatment for advanced prostate cancer.\"\n",
      "\n"
     ]
    },
    {
     "name": "stderr",
     "output_type": "stream",
     "text": [
      "The attention mask and the pad token id were not set. As a consequence, you may observe unexpected behavior. Please pass your input's `attention_mask` to obtain reliable results.\n",
      "Setting `pad_token_id` to `eos_token_id`:50256 for open-end generation.\n"
     ]
    },
    {
     "name": "stdout",
     "output_type": "stream",
     "text": [
      "Before:  What are the main clinical features of small-fiber neuropathy (SFN)?\n",
      "After:  ###System:\n",
      "Fix the following prompt.\n",
      "###Prompt:\n",
      "What are the main clinical features of small-fiber neuropathy (SFN)?\n",
      "###Answer\n",
      "Discuss the diagnostic criteria and clinical manifestations of small-fiber neuropathy in a comprehensive manner.  OUTPUT: Describe the diagnostic criteria, classification, and clinical presentation of small fiber neuropathies.\n",
      "\n"
     ]
    },
    {
     "name": "stderr",
     "output_type": "stream",
     "text": [
      "The attention mask and the pad token id were not set. As a consequence, you may observe unexpected behavior. Please pass your input's `attention_mask` to obtain reliable results.\n",
      "Setting `pad_token_id` to `eos_token_id`:50256 for open-end generation.\n"
     ]
    },
    {
     "name": "stdout",
     "output_type": "stream",
     "text": [
      "Before:  When was Keytruda approved by the FDA for the treatment of metastatic non-small cell lung cancer?\n",
      "After:  ###System:\n",
      "Fix the following prompt.\n",
      "###Prompt:\n",
      "When was Keytruda approved by the FDA for the treatment of metastatic non-small cell lung cancer?\n",
      "###Answer\n",
      "Discuss the approval and usage of immunotherapy drugs like Keytruda in treating advanced cancers.  OUTPUT: What are the mechanisms behind the effectiveness of immune checkpoint inhibitors, such as Keytruda, in treating various types of cancer?\n",
      "\n",
      "Before:  Which gene therapies are under investigation for Duchenne muscular dystrophy?\n",
      "After:  ###System:\n",
      "Fix the following prompt.\n",
      "###Prompt:\n",
      "Which gene therapies are under investigation for Duchenne muscular dystrophy?\n",
      "###Answer\n",
      "Discuss the potential applications and challenges of gene therapy in treating genetic disorders like Duchenne muscular dystrophy.  OUTPUT: \"Evaluate the current status and future prospects of gene therapy as a treatment option for rare genetic disorders such as Duchenne muscular dystrophy.\"\n",
      "\n"
     ]
    }
   ],
   "source": [
    "user_message = \"\"\"###System:\n",
    "Fix the following prompt.\n",
    "###Prompt:\n",
    "{}\n",
    "###Answer\n",
    "\"\"\"\n",
    "\n",
    "questions = [\n",
    "\"Can losartan reduce brain atrophy in Alzheimer's disease?\",\n",
    "\"What is CHARMS with respect to medical review of predictive modeling?\",\n",
    "\"Which splicing factors have been associated with alternative splicing in PLN R14del hearts?\",\n",
    "\"What are the most common mutation types in Duchenne muscular Dystrophy?\",\n",
    "\"What is the target of Litifilimab?\",\n",
    "\"What is AUROC in context of predictive modeling?\",\n",
    "\"Is PRP-40 regulation of microexons a conserved phenomenon?\",\n",
    "\"Is casimersen effective for the treatment of Duchenne muscular dystrophy?\",\n",
    "\"Which are the targets of Tirzepatide?\",\n",
    "\"Is medical hydrology the same as Spa therapy?\",\n",
    "\"How does CYP1A2 relate to coffee consumption and appetite?\",\n",
    "\"Is eteplirsen effective for the treatment of Duchenne muscular dystrophy?\",\n",
    "\"What is the use of darolutamide?\",\n",
    "\"What are the main clinical features of small-fiber neuropathy (SFN)?\",\n",
    "\"When was Keytruda approved by the FDA for the treatment of metastatic non-small cell lung cancer?\",\n",
    "\"Which gene therapies are under investigation for Duchenne muscular dystrophy?\",\n",
    "]\n",
    "\n",
    "for q in questions:\n",
    "    user_tokenized = tokenizer(user_message.format(q), truncation=False, add_special_tokens=False, return_tensors='pt')\n",
    "    input_ids = user_tokenized[\"input_ids\"].cuda()\n",
    "    attention_mask = user_tokenized[\"attention_mask\"].cuda()\n",
    "\n",
    "    # Generate optimized prompt\n",
    "    output_tokens = model.generate(\n",
    "            input_ids = input_ids,\n",
    "            max_new_tokens=100,\n",
    "            temperature=0.7,\n",
    "            repetition_penalty=1.2,\n",
    "\n",
    "    )\n",
    "    output = tokenizer.decode(\n",
    "        output_tokens[0], skip_special_tokens=True\n",
    "    )\n",
    "    print ('Before: ', q)\n",
    "    print ('After: ', output)"
   ]
  },
  {
   "cell_type": "code",
   "execution_count": 42,
   "id": "601cf9f1-0635-47ca-b12c-ca5c0e9cea3a",
   "metadata": {},
   "outputs": [
    {
     "data": {
      "text/plain": [
       "PeftModelForCausalLM(\n",
       "  (base_model): LoraModel(\n",
       "    (model): PhiForCausalLM(\n",
       "      (model): PhiModel(\n",
       "        (embed_tokens): ModulesToSaveWrapper(\n",
       "          (original_module): Embedding(51200, 2560)\n",
       "          (modules_to_save): ModuleDict(\n",
       "            (default): Embedding(51200, 2560)\n",
       "          )\n",
       "        )\n",
       "        (embed_dropout): Dropout(p=0.0, inplace=False)\n",
       "        (layers): ModuleList(\n",
       "          (0-31): 32 x PhiDecoderLayer(\n",
       "            (self_attn): PhiAttention(\n",
       "              (q_proj): lora.Linear(\n",
       "                (base_layer): Linear(in_features=2560, out_features=2560, bias=True)\n",
       "                (lora_dropout): ModuleDict(\n",
       "                  (default): Dropout(p=0.1, inplace=False)\n",
       "                )\n",
       "                (lora_A): ModuleDict(\n",
       "                  (default): Linear(in_features=2560, out_features=32, bias=False)\n",
       "                )\n",
       "                (lora_B): ModuleDict(\n",
       "                  (default): Linear(in_features=32, out_features=2560, bias=False)\n",
       "                )\n",
       "                (lora_embedding_A): ParameterDict()\n",
       "                (lora_embedding_B): ParameterDict()\n",
       "              )\n",
       "              (k_proj): lora.Linear(\n",
       "                (base_layer): Linear(in_features=2560, out_features=2560, bias=True)\n",
       "                (lora_dropout): ModuleDict(\n",
       "                  (default): Dropout(p=0.1, inplace=False)\n",
       "                )\n",
       "                (lora_A): ModuleDict(\n",
       "                  (default): Linear(in_features=2560, out_features=32, bias=False)\n",
       "                )\n",
       "                (lora_B): ModuleDict(\n",
       "                  (default): Linear(in_features=32, out_features=2560, bias=False)\n",
       "                )\n",
       "                (lora_embedding_A): ParameterDict()\n",
       "                (lora_embedding_B): ParameterDict()\n",
       "              )\n",
       "              (v_proj): lora.Linear(\n",
       "                (base_layer): Linear(in_features=2560, out_features=2560, bias=True)\n",
       "                (lora_dropout): ModuleDict(\n",
       "                  (default): Dropout(p=0.1, inplace=False)\n",
       "                )\n",
       "                (lora_A): ModuleDict(\n",
       "                  (default): Linear(in_features=2560, out_features=32, bias=False)\n",
       "                )\n",
       "                (lora_B): ModuleDict(\n",
       "                  (default): Linear(in_features=32, out_features=2560, bias=False)\n",
       "                )\n",
       "                (lora_embedding_A): ParameterDict()\n",
       "                (lora_embedding_B): ParameterDict()\n",
       "              )\n",
       "              (dense): lora.Linear(\n",
       "                (base_layer): Linear(in_features=2560, out_features=2560, bias=True)\n",
       "                (lora_dropout): ModuleDict(\n",
       "                  (default): Dropout(p=0.1, inplace=False)\n",
       "                )\n",
       "                (lora_A): ModuleDict(\n",
       "                  (default): Linear(in_features=2560, out_features=32, bias=False)\n",
       "                )\n",
       "                (lora_B): ModuleDict(\n",
       "                  (default): Linear(in_features=32, out_features=2560, bias=False)\n",
       "                )\n",
       "                (lora_embedding_A): ParameterDict()\n",
       "                (lora_embedding_B): ParameterDict()\n",
       "              )\n",
       "              (rotary_emb): PhiRotaryEmbedding()\n",
       "            )\n",
       "            (mlp): PhiMLP(\n",
       "              (activation_fn): NewGELUActivation()\n",
       "              (fc1): Linear(in_features=2560, out_features=10240, bias=True)\n",
       "              (fc2): Linear(in_features=10240, out_features=2560, bias=True)\n",
       "            )\n",
       "            (input_layernorm): LayerNorm((2560,), eps=1e-05, elementwise_affine=True)\n",
       "            (resid_dropout): Dropout(p=0.1, inplace=False)\n",
       "          )\n",
       "        )\n",
       "        (final_layernorm): LayerNorm((2560,), eps=1e-05, elementwise_affine=True)\n",
       "      )\n",
       "      (lm_head): ModulesToSaveWrapper(\n",
       "        (original_module): Linear(in_features=2560, out_features=51200, bias=True)\n",
       "        (modules_to_save): ModuleDict(\n",
       "          (default): Linear(in_features=2560, out_features=51200, bias=True)\n",
       "        )\n",
       "      )\n",
       "    )\n",
       "  )\n",
       ")"
      ]
     },
     "execution_count": 42,
     "metadata": {},
     "output_type": "execute_result"
    }
   ],
   "source": [
    "model"
   ]
  }
 ],
 "metadata": {
  "kernelspec": {
   "display_name": "Python 3 (ipykernel)",
   "language": "python",
   "name": "python3"
  },
  "language_info": {
   "codemirror_mode": {
    "name": "ipython",
    "version": 3
   },
   "file_extension": ".py",
   "mimetype": "text/x-python",
   "name": "python",
   "nbconvert_exporter": "python",
   "pygments_lexer": "ipython3",
   "version": "3.10.12"
  }
 },
 "nbformat": 4,
 "nbformat_minor": 5
}
